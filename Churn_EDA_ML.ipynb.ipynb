{
 "cells": [
  {
   "cell_type": "code",
   "execution_count": null,
   "id": "6HEFV5Hj_ipL",
   "metadata": {
    "colab": {
     "base_uri": "https://localhost:8080/"
    },
    "executionInfo": {
     "elapsed": 105799,
     "status": "ok",
     "timestamp": 1694570757993,
     "user": {
      "displayName": "DHIVYESH R K -IIITK",
      "userId": "17132821962679072664"
     },
     "user_tz": -330
    },
    "id": "6HEFV5Hj_ipL",
    "outputId": "09be72b8-fb3c-44ce-ee41-308fe1e4ab82"
   },
   "outputs": [],
   "source": [
    "from google.colab import drive\n",
    "drive.mount('/content/drive')"
   ]
  },
  {
   "cell_type": "code",
   "execution_count": null,
   "id": "initial_id",
   "metadata": {
    "ExecuteTime": {
     "end_time": "2023-09-12T15:07:37.005665400Z",
     "start_time": "2023-09-12T15:07:36.911597200Z"
    },
    "colab": {
     "base_uri": "https://localhost:8080/",
     "height": 17
    },
    "executionInfo": {
     "elapsed": 3076,
     "status": "ok",
     "timestamp": 1694570761065,
     "user": {
      "displayName": "DHIVYESH R K -IIITK",
      "userId": "17132821962679072664"
     },
     "user_tz": -330
    },
    "id": "initial_id",
    "outputId": "ea409efe-466c-44b9-b489-93ee969443f2"
   },
   "outputs": [],
   "source": [
    "import pandas as pd\n",
    "import numpy as np\n",
    "import matplotlib.pyplot as plt\n",
    "import seaborn as sns\n",
    "import missingno as msno\n",
    "from sklearn.preprocessing import LabelEncoder\n",
    "from sklearn.preprocessing import StandardScaler\n",
    "from PIL import Image\n",
    "import plotly.offline as py # visualization\n",
    "py.init_notebook_mode(connected=True) # visualization\n",
    "import plotly.graph_objs as go # visualization\n",
    "from plotly.subplots import make_subplots\n",
    "import plotly.figure_factory as ff # visualization\n",
    "from sklearn.model_selection import train_test_split"
   ]
  },
  {
   "cell_type": "code",
   "execution_count": null,
   "id": "N5C6RWJFAx8e",
   "metadata": {
    "id": "N5C6RWJFAx8e"
   },
   "outputs": [],
   "source": [
    "# !pip install plotly --upgrade\n",
    "# ref : https://www.kaggle.com/code/bhartiprasad17/customer-churn-prediction"
   ]
  },
  {
   "cell_type": "code",
   "execution_count": null,
   "id": "2f107107-0570-46a0-b3fd-94839be61da6",
   "metadata": {
    "executionInfo": {
     "elapsed": 4,
     "status": "ok",
     "timestamp": 1694570761727,
     "user": {
      "displayName": "DHIVYESH R K -IIITK",
      "userId": "17132821962679072664"
     },
     "user_tz": -330
    },
    "id": "2f107107-0570-46a0-b3fd-94839be61da6"
   },
   "outputs": [],
   "source": [
    "df = pd.read_csv(\"/content/drive/My Drive/customerChurn/Telecom_Customer_Churn.csv\")"
   ]
  },
  {
   "cell_type": "code",
   "execution_count": null,
   "id": "f7d9afc5-6032-4d72-a839-3ca785d793a3",
   "metadata": {
    "colab": {
     "base_uri": "https://localhost:8080/",
     "height": 313
    },
    "executionInfo": {
     "elapsed": 29,
     "status": "ok",
     "timestamp": 1694570762465,
     "user": {
      "displayName": "DHIVYESH R K -IIITK",
      "userId": "17132821962679072664"
     },
     "user_tz": -330
    },
    "id": "f7d9afc5-6032-4d72-a839-3ca785d793a3",
    "outputId": "bff8e9dc-34b8-437a-a58d-96ee3de7ddc8"
   },
   "outputs": [],
   "source": [
    "pd.set_option(\"display.max_columns\", None)\n",
    "df.head()"
   ]
  },
  {
   "cell_type": "code",
   "execution_count": null,
   "id": "ac02146c-8245-48e2-96a4-add548792fe1",
   "metadata": {
    "colab": {
     "base_uri": "https://localhost:8080/"
    },
    "executionInfo": {
     "elapsed": 28,
     "status": "ok",
     "timestamp": 1694570762467,
     "user": {
      "displayName": "DHIVYESH R K -IIITK",
      "userId": "17132821962679072664"
     },
     "user_tz": -330
    },
    "id": "ac02146c-8245-48e2-96a4-add548792fe1",
    "outputId": "2f381b34-426d-46f5-ba0a-a4806bdf954c"
   },
   "outputs": [],
   "source": [
    "# Get number of unique values in each column - helps identify categorical and continuous variables.\n",
    "df.nunique()"
   ]
  },
  {
   "cell_type": "code",
   "execution_count": null,
   "id": "790de4be-42e1-42ae-be48-2ecf9b4c4ae5",
   "metadata": {
    "colab": {
     "base_uri": "https://localhost:8080/"
    },
    "executionInfo": {
     "elapsed": 21,
     "status": "ok",
     "timestamp": 1694570762468,
     "user": {
      "displayName": "DHIVYESH R K -IIITK",
      "userId": "17132821962679072664"
     },
     "user_tz": -330
    },
    "id": "790de4be-42e1-42ae-be48-2ecf9b4c4ae5",
    "outputId": "c50ce3b2-ec4d-4db9-f6f3-3ebf7bc1fe1f"
   },
   "outputs": [],
   "source": [
    "df.shape"
   ]
  },
  {
   "cell_type": "code",
   "execution_count": null,
   "id": "b6e8e637-fbd3-428c-a901-624f0d6f63e1",
   "metadata": {
    "executionInfo": {
     "elapsed": 19,
     "status": "ok",
     "timestamp": 1694570762468,
     "user": {
      "displayName": "DHIVYESH R K -IIITK",
      "userId": "17132821962679072664"
     },
     "user_tz": -330
    },
    "id": "b6e8e637-fbd3-428c-a901-624f0d6f63e1"
   },
   "outputs": [],
   "source": [
    "## 21 columns/ features and 7043 rows of data"
   ]
  },
  {
   "cell_type": "code",
   "execution_count": null,
   "id": "c7dc000d-2d82-488d-9d47-0d2610e05b6e",
   "metadata": {
    "colab": {
     "base_uri": "https://localhost:8080/",
     "height": 300
    },
    "executionInfo": {
     "elapsed": 19,
     "status": "ok",
     "timestamp": 1694570762469,
     "user": {
      "displayName": "DHIVYESH R K -IIITK",
      "userId": "17132821962679072664"
     },
     "user_tz": -330
    },
    "id": "c7dc000d-2d82-488d-9d47-0d2610e05b6e",
    "outputId": "7dcb8bef-b2d6-405c-de08-eb6c20822fe3"
   },
   "outputs": [],
   "source": [
    "df.describe()"
   ]
  },
  {
   "cell_type": "code",
   "execution_count": null,
   "id": "eecc7604-52ac-4e39-b5dc-208d9df832dc",
   "metadata": {
    "executionInfo": {
     "elapsed": 18,
     "status": "ok",
     "timestamp": 1694570762469,
     "user": {
      "displayName": "DHIVYESH R K -IIITK",
      "userId": "17132821962679072664"
     },
     "user_tz": -330
    },
    "id": "eecc7604-52ac-4e39-b5dc-208d9df832dc"
   },
   "outputs": [],
   "source": [
    "# Mean Tenure of any customer is 32 months\n",
    "# A customer can stay at the company anywhere between zero to 72 months.\n",
    "# More than 50% of customers stay for more than 29 months"
   ]
  },
  {
   "cell_type": "code",
   "execution_count": null,
   "id": "7074677f-a8c8-4c04-a95c-191f1ef6a523",
   "metadata": {
    "colab": {
     "base_uri": "https://localhost:8080/"
    },
    "executionInfo": {
     "elapsed": 19,
     "status": "ok",
     "timestamp": 1694570762470,
     "user": {
      "displayName": "DHIVYESH R K -IIITK",
      "userId": "17132821962679072664"
     },
     "user_tz": -330
    },
    "id": "7074677f-a8c8-4c04-a95c-191f1ef6a523",
    "outputId": "a8d0002a-6588-4ee1-e82f-bba3a33a4dfa"
   },
   "outputs": [],
   "source": [
    "df.columns.values"
   ]
  },
  {
   "cell_type": "code",
   "execution_count": null,
   "id": "80fab6b8-35cb-4ac7-a129-90377c655488",
   "metadata": {
    "colab": {
     "base_uri": "https://localhost:8080/",
     "height": 697
    },
    "executionInfo": {
     "elapsed": 1254,
     "status": "ok",
     "timestamp": 1694570763707,
     "user": {
      "displayName": "DHIVYESH R K -IIITK",
      "userId": "17132821962679072664"
     },
     "user_tz": -330
    },
    "id": "80fab6b8-35cb-4ac7-a129-90377c655488",
    "outputId": "3528fbf9-789a-453d-f35b-008976a4cbb9"
   },
   "outputs": [],
   "source": [
    "msno.matrix(df)"
   ]
  },
  {
   "cell_type": "code",
   "execution_count": null,
   "id": "06cc47da-b7cc-4f0a-90a3-f3502e848fa5",
   "metadata": {
    "executionInfo": {
     "elapsed": 29,
     "status": "ok",
     "timestamp": 1694570763708,
     "user": {
      "displayName": "DHIVYESH R K -IIITK",
      "userId": "17132821962679072664"
     },
     "user_tz": -330
    },
    "id": "06cc47da-b7cc-4f0a-90a3-f3502e848fa5"
   },
   "outputs": [],
   "source": [
    "# looks like there is no missing data\n",
    "# Lets check for nulls."
   ]
  },
  {
   "cell_type": "code",
   "execution_count": null,
   "id": "c90be4bf-9664-4eaa-a750-a8a03c9b69ff",
   "metadata": {
    "colab": {
     "base_uri": "https://localhost:8080/"
    },
    "executionInfo": {
     "elapsed": 28,
     "status": "ok",
     "timestamp": 1694570763708,
     "user": {
      "displayName": "DHIVYESH R K -IIITK",
      "userId": "17132821962679072664"
     },
     "user_tz": -330
    },
    "id": "c90be4bf-9664-4eaa-a750-a8a03c9b69ff",
    "outputId": "5e1eee8f-2764-44e7-afcf-ec558f0db9e0"
   },
   "outputs": [],
   "source": [
    "df['TotalCharges'] = pd.to_numeric(df.TotalCharges, errors = 'coerce')\n",
    "df.isnull().sum()"
   ]
  },
  {
   "cell_type": "code",
   "execution_count": null,
   "id": "7b9ed575-9286-466f-9c9f-9430775c0fbb",
   "metadata": {
    "colab": {
     "base_uri": "https://localhost:8080/",
     "height": 605
    },
    "executionInfo": {
     "elapsed": 26,
     "status": "ok",
     "timestamp": 1694570763709,
     "user": {
      "displayName": "DHIVYESH R K -IIITK",
      "userId": "17132821962679072664"
     },
     "user_tz": -330
    },
    "id": "7b9ed575-9286-466f-9c9f-9430775c0fbb",
    "outputId": "1e3b162f-f09a-4ede-8d7e-790dda59df41"
   },
   "outputs": [],
   "source": [
    "df[np.isnan(df['TotalCharges'])==True]"
   ]
  },
  {
   "cell_type": "code",
   "execution_count": null,
   "id": "9fca34e0-62c6-45ef-9497-d676bc819ec4",
   "metadata": {
    "executionInfo": {
     "elapsed": 25,
     "status": "ok",
     "timestamp": 1694570763709,
     "user": {
      "displayName": "DHIVYESH R K -IIITK",
      "userId": "17132821962679072664"
     },
     "user_tz": -330
    },
    "id": "9fca34e0-62c6-45ef-9497-d676bc819ec4"
   },
   "outputs": [],
   "source": [
    "# The tenure is also zero for most of these columns.\n",
    "# Thus the totalcharges cannot be calculated as well.\n",
    "# Therefore, we drop it as this will lead the model to learn wrong information"
   ]
  },
  {
   "cell_type": "code",
   "execution_count": null,
   "id": "94590b48-7a50-4471-a22e-0ce25c2dbfd3",
   "metadata": {
    "colab": {
     "base_uri": "https://localhost:8080/"
    },
    "executionInfo": {
     "elapsed": 415,
     "status": "ok",
     "timestamp": 1694570840175,
     "user": {
      "displayName": "DHIVYESH R K -IIITK",
      "userId": "17132821962679072664"
     },
     "user_tz": -330
    },
    "id": "94590b48-7a50-4471-a22e-0ce25c2dbfd3",
    "outputId": "80034f44-670f-40fa-b07d-c06d757312fd"
   },
   "outputs": [],
   "source": [
    "df.drop(labels=df[df['tenure'] == 0].index, axis=0, inplace=True)\n",
    "df.shape"
   ]
  },
  {
   "cell_type": "code",
   "execution_count": null,
   "id": "8747b7c6-bf32-41ed-9684-c73d4aba5e3c",
   "metadata": {
    "executionInfo": {
     "elapsed": 23,
     "status": "ok",
     "timestamp": 1694570763710,
     "user": {
      "displayName": "DHIVYESH R K -IIITK",
      "userId": "17132821962679072664"
     },
     "user_tz": -330
    },
    "id": "8747b7c6-bf32-41ed-9684-c73d4aba5e3c"
   },
   "outputs": [],
   "source": [
    "# 11 columns have been dropped"
   ]
  },
  {
   "cell_type": "code",
   "execution_count": null,
   "id": "8e38f0f9-bb7f-462d-af23-47ae2a9ca151",
   "metadata": {
    "colab": {
     "base_uri": "https://localhost:8080/"
    },
    "executionInfo": {
     "elapsed": 23,
     "status": "ok",
     "timestamp": 1694570763710,
     "user": {
      "displayName": "DHIVYESH R K -IIITK",
      "userId": "17132821962679072664"
     },
     "user_tz": -330
    },
    "id": "8e38f0f9-bb7f-462d-af23-47ae2a9ca151",
    "outputId": "d19d6600-4210-4fcd-cd2a-a08505cce235"
   },
   "outputs": [],
   "source": [
    "# Convert categorical variables to numbers\n",
    "df.nunique()"
   ]
  },
  {
   "cell_type": "code",
   "execution_count": null,
   "id": "4G5VBqSFCCAd",
   "metadata": {
    "colab": {
     "base_uri": "https://localhost:8080/"
    },
    "executionInfo": {
     "elapsed": 20,
     "status": "ok",
     "timestamp": 1694570763710,
     "user": {
      "displayName": "DHIVYESH R K -IIITK",
      "userId": "17132821962679072664"
     },
     "user_tz": -330
    },
    "id": "4G5VBqSFCCAd",
    "outputId": "acaa638f-ba86-4abb-cb97-c8a70053054f"
   },
   "outputs": [],
   "source": [
    "len(df[df['Churn']=='Yes'])"
   ]
  },
  {
   "cell_type": "code",
   "execution_count": null,
   "id": "uOvwVchaJyPq",
   "metadata": {
    "executionInfo": {
     "elapsed": 18,
     "status": "ok",
     "timestamp": 1694570763711,
     "user": {
      "displayName": "DHIVYESH R K -IIITK",
      "userId": "17132821962679072664"
     },
     "user_tz": -330
    },
    "id": "uOvwVchaJyPq"
   },
   "outputs": [],
   "source": [
    "df.drop(columns = ['customerID'], inplace = True)"
   ]
  },
  {
   "cell_type": "code",
   "execution_count": null,
   "id": "EOiAfLxbIxgf",
   "metadata": {
    "executionInfo": {
     "elapsed": 17,
     "status": "ok",
     "timestamp": 1694570763711,
     "user": {
      "displayName": "DHIVYESH R K -IIITK",
      "userId": "17132821962679072664"
     },
     "user_tz": -330
    },
    "id": "EOiAfLxbIxgf"
   },
   "outputs": [],
   "source": [
    "def encode_yes_no(col, df2):\n",
    "    df2[col] = df2[col].map({'Yes':1, 'No':0})"
   ]
  },
  {
   "cell_type": "code",
   "execution_count": null,
   "id": "5kCTyYMgJ_7I",
   "metadata": {
    "executionInfo": {
     "elapsed": 18,
     "status": "ok",
     "timestamp": 1694570763712,
     "user": {
      "displayName": "DHIVYESH R K -IIITK",
      "userId": "17132821962679072664"
     },
     "user_tz": -330
    },
    "id": "5kCTyYMgJ_7I"
   },
   "outputs": [],
   "source": []
  },
  {
   "cell_type": "code",
   "execution_count": null,
   "id": "c03e9f2d-8c14-4ead-8629-cc7654cbca17",
   "metadata": {
    "colab": {
     "base_uri": "https://localhost:8080/",
     "height": 521
    },
    "executionInfo": {
     "elapsed": 1379,
     "status": "ok",
     "timestamp": 1694570765073,
     "user": {
      "displayName": "DHIVYESH R K -IIITK",
      "userId": "17132821962679072664"
     },
     "user_tz": -330
    },
    "id": "c03e9f2d-8c14-4ead-8629-cc7654cbca17",
    "outputId": "7be379a1-44f9-431e-e54f-654d686245ad"
   },
   "outputs": [],
   "source": [
    "import pandas as pd\n",
    "import seaborn as sns\n",
    "import matplotlib.pyplot as plt\n",
    "\n",
    "# Sample data (replace with your DataFrame)\n",
    "data = {\n",
    "    \"Churn\": [\"Yes\", \"No\"],\n",
    "    \"Count\": [df[\"Churn\"].value_counts()[\"Yes\"], df[\"Churn\"].value_counts()[\"No\"]]\n",
    "}\n",
    "\n",
    "# Create a DataFrame from the sample data\n",
    "churn_df = pd.DataFrame(data)\n",
    "\n",
    "# Create a pie chart using Seaborn and Matplotlib\n",
    "plt.figure(figsize=(6, 6))\n",
    "sns.set_palette(\"pastel\")\n",
    "sns.set(style=\"whitegrid\")\n",
    "\n",
    "plt.pie(churn_df[\"Count\"], labels=churn_df[\"Churn\"], autopct='%1.1f%%', startangle=90, pctdistance=0.85)\n",
    "plt.title(\"Customer Churn\")\n",
    "\n",
    "# Draw a circle in the center to make it look like a donut chart\n",
    "centre_circle = plt.Circle((0,0),0.70,fc='white')\n",
    "fig = plt.gcf()\n",
    "fig.gca().add_artist(centre_circle)\n",
    "\n",
    "plt.axis('equal')  # Equal aspect ratio ensures that pie is drawn as a circle.\n",
    "plt.show()\n"
   ]
  },
  {
   "cell_type": "code",
   "execution_count": null,
   "id": "1315fbef-6ed9-4902-b8a5-fe235eaf84aa",
   "metadata": {
    "colab": {
     "base_uri": "https://localhost:8080/",
     "height": 792
    },
    "executionInfo": {
     "elapsed": 46,
     "status": "ok",
     "timestamp": 1694570765075,
     "user": {
      "displayName": "DHIVYESH R K -IIITK",
      "userId": "17132821962679072664"
     },
     "user_tz": -330
    },
    "id": "1315fbef-6ed9-4902-b8a5-fe235eaf84aa",
    "outputId": "5227af46-b7f8-41c9-dcea-ae2fc9cad8de"
   },
   "outputs": [],
   "source": [
    "import seaborn as sns\n",
    "import matplotlib.pyplot as plt\n",
    "\n",
    "correlation = df.corr()\n",
    "\n",
    "plt.figure(figsize=(10, 8))\n",
    "\n",
    "# Create a heatmap\n",
    "sns.heatmap(correlation, annot=True, cmap=\"viridis\", fmt=\".2f\", linewidths=0.5)\n",
    "\n",
    "# Set the title\n",
    "plt.title(\"Feature Correlation Matrix\")\n",
    "\n",
    "# Show the plot\n",
    "plt.show()\n"
   ]
  },
  {
   "cell_type": "code",
   "execution_count": null,
   "id": "CZlyRG5lRpnX",
   "metadata": {
    "colab": {
     "base_uri": "https://localhost:8080/"
    },
    "executionInfo": {
     "elapsed": 37,
     "status": "ok",
     "timestamp": 1694570765075,
     "user": {
      "displayName": "DHIVYESH R K -IIITK",
      "userId": "17132821962679072664"
     },
     "user_tz": -330
    },
    "id": "CZlyRG5lRpnX",
    "outputId": "005103b5-78ff-456a-9d91-e958bb748787"
   },
   "outputs": [],
   "source": [
    "df[\"Churn\"][df[\"Churn\"]==\"Yes\"].groupby(by=df[\"SeniorCitizen\"]).count()"
   ]
  },
  {
   "cell_type": "code",
   "execution_count": null,
   "id": "3cikQuHJSJwK",
   "metadata": {
    "colab": {
     "base_uri": "https://localhost:8080/"
    },
    "executionInfo": {
     "elapsed": 33,
     "status": "ok",
     "timestamp": 1694570765076,
     "user": {
      "displayName": "DHIVYESH R K -IIITK",
      "userId": "17132821962679072664"
     },
     "user_tz": -330
    },
    "id": "3cikQuHJSJwK",
    "outputId": "a72fab63-148a-48aa-ed65-db7a9eeb8269"
   },
   "outputs": [],
   "source": [
    "df[\"Churn\"][df[\"Churn\"]==\"No\"].groupby(by=df[\"SeniorCitizen\"]).count()"
   ]
  },
  {
   "cell_type": "code",
   "execution_count": null,
   "id": "Lblx6pL8VA7G",
   "metadata": {
    "executionInfo": {
     "elapsed": 4,
     "status": "ok",
     "timestamp": 1694570845008,
     "user": {
      "displayName": "DHIVYESH R K -IIITK",
      "userId": "17132821962679072664"
     },
     "user_tz": -330
    },
    "id": "Lblx6pL8VA7G"
   },
   "outputs": [],
   "source": [
    "def get_size_list(df, col):\n",
    "  a = df[\"Churn\"][df[\"Churn\"]==\"Yes\"].groupby(by=df[col]).count()[1]\n",
    "  b = df[\"Churn\"][df[\"Churn\"]==\"Yes\"].groupby(by=df[col]).count()[0]\n",
    "  c = df[\"Churn\"][df[\"Churn\"]==\"No\"].groupby(by=df[col]).count()[1]\n",
    "  d = df[\"Churn\"][df[\"Churn\"]==\"No\"].groupby(by=df[col]).count()[0]\n",
    "  l = [a, b, c, d]\n",
    "  return l"
   ]
  },
  {
   "cell_type": "code",
   "execution_count": null,
   "id": "oWANgTG2RYbf",
   "metadata": {
    "colab": {
     "base_uri": "https://localhost:8080/",
     "height": 604
    },
    "executionInfo": {
     "elapsed": 29,
     "status": "ok",
     "timestamp": 1694570765078,
     "user": {
      "displayName": "DHIVYESH R K -IIITK",
      "userId": "17132821962679072664"
     },
     "user_tz": -330
    },
    "id": "oWANgTG2RYbf",
    "outputId": "47fc1b78-e1ab-44b3-fabb-6c999b83a8da"
   },
   "outputs": [],
   "source": [
    "plt.figure(figsize=(6, 6))\n",
    "labels =[\"Churn: Yes\",\"Churn:No\"]\n",
    "values = [1869,5163]\n",
    "labels_gender = [\"S\",\"N\",\"S\",\"N\"]\n",
    "sizes_gender = [476,1393,666,4497]\n",
    "colors = ['#ff6666', '#66b3ff']\n",
    "colors_gender = ['#c2c2f0','#ffb3e6', '#c2c2f0','#ffb3e6']\n",
    "explode = (0.3,0.3)\n",
    "explode_gender = (0.1,0.1,0.1,0.1)\n",
    "textprops = {\"fontsize\":15}\n",
    "#Plot\n",
    "plt.pie(values, labels=labels,autopct='%1.1f%%',pctdistance=1.08, labeldistance=0.8,colors=colors, startangle=90,frame=True, explode=explode,radius=10, textprops =textprops, counterclock = True, )\n",
    "plt.pie(sizes_gender,labels=labels_gender,colors=colors_gender,startangle=90, explode=explode_gender,radius=7, textprops =textprops, counterclock = True, )\n",
    "#Draw circle\n",
    "centre_circle = plt.Circle((0,0),5,color='black', fc='white',linewidth=0)\n",
    "fig = plt.gcf()\n",
    "fig.gca().add_artist(centre_circle)\n",
    "\n",
    "plt.title('Churn Distribution w.r.t Senior Citizen: Senior(S), Not Senior(N)', fontsize=15, y=1.1)\n",
    "\n",
    "# show plot\n",
    "\n",
    "plt.axis('equal')\n",
    "plt.tight_layout()\n",
    "plt.show()"
   ]
  },
  {
   "cell_type": "code",
   "execution_count": null,
   "id": "p8qwpP4RTsTw",
   "metadata": {
    "colab": {
     "base_uri": "https://localhost:8080/",
     "height": 604
    },
    "executionInfo": {
     "elapsed": 1494,
     "status": "ok",
     "timestamp": 1694570766546,
     "user": {
      "displayName": "DHIVYESH R K -IIITK",
      "userId": "17132821962679072664"
     },
     "user_tz": -330
    },
    "id": "p8qwpP4RTsTw",
    "outputId": "fb981516-15e7-4b11-e1c9-820a9db4e407"
   },
   "outputs": [],
   "source": [
    "plt.figure(figsize=(6, 6))\n",
    "labels =[\"Churn: Yes\",\"Churn:No\"]\n",
    "values = [1869,5163]\n",
    "labels_gender = [\"Y\",\"N\",\"Y\",\"N\"]\n",
    "sizes_gender = get_size_list(df, 'Dependents')\n",
    "colors = ['#ff6666', '#66b3ff']\n",
    "colors_gender = ['#c2c2f0','#ffb3e6', '#c2c2f0','#ffb3e6']\n",
    "explode = (0.3,0.3)\n",
    "explode_gender = (0.1,0.1,0.1,0.1)\n",
    "textprops = {\"fontsize\":15}\n",
    "#Plot\n",
    "plt.pie(values, labels=labels,autopct='%1.1f%%',pctdistance=1.08, labeldistance=0.8,colors=colors, startangle=90,frame=True, explode=explode,radius=10, textprops =textprops, counterclock = True, )\n",
    "plt.pie(sizes_gender,labels=labels_gender,colors=colors_gender,startangle=90, explode=explode_gender,radius=7, textprops =textprops, counterclock = True, )\n",
    "#Draw circle\n",
    "centre_circle = plt.Circle((0,0),5,color='black', fc='white',linewidth=0)\n",
    "fig = plt.gcf()\n",
    "fig.gca().add_artist(centre_circle)\n",
    "\n",
    "plt.title('Churn Distribution w.r.t Dependents: Having Dependents(Y), No Dependents(N)', fontsize=15, y=1.1)\n",
    "\n",
    "# show plot\n",
    "\n",
    "plt.axis('equal')\n",
    "plt.tight_layout()\n",
    "plt.show()"
   ]
  },
  {
   "cell_type": "code",
   "execution_count": null,
   "id": "xBF8hWEYWO_3",
   "metadata": {
    "colab": {
     "base_uri": "https://localhost:8080/",
     "height": 604
    },
    "executionInfo": {
     "elapsed": 34,
     "status": "ok",
     "timestamp": 1694570766547,
     "user": {
      "displayName": "DHIVYESH R K -IIITK",
      "userId": "17132821962679072664"
     },
     "user_tz": -330
    },
    "id": "xBF8hWEYWO_3",
    "outputId": "6d62e618-02ce-4978-e1b8-19ee91665082"
   },
   "outputs": [],
   "source": [
    "plt.figure(figsize=(6, 6))\n",
    "labels =[\"Churn: Yes\",\"Churn:No\"]\n",
    "values = [1869,5163]\n",
    "labels_gender = [\"Y\",\"N\",\"Y\",\"N\"]\n",
    "sizes_gender = get_size_list(df, 'Partner')\n",
    "colors = ['#ff6666', '#66b3ff']\n",
    "colors_gender = ['#c2c2f0','#ffb3e6', '#c2c2f0','#ffb3e6']\n",
    "explode = (0.3,0.3)\n",
    "explode_gender = (0.1,0.1,0.1,0.1)\n",
    "textprops = {\"fontsize\":15}\n",
    "#Plot\n",
    "plt.pie(values, labels=labels,autopct='%1.1f%%',pctdistance=1.08, labeldistance=0.8,colors=colors, startangle=90,frame=True, explode=explode,radius=10, textprops =textprops, counterclock = True, )\n",
    "plt.pie(sizes_gender,labels=labels_gender,colors=colors_gender,startangle=90, explode=explode_gender,radius=7, textprops =textprops, counterclock = True, )\n",
    "#Draw circle\n",
    "centre_circle = plt.Circle((0,0),5,color='black', fc='white',linewidth=0)\n",
    "fig = plt.gcf()\n",
    "fig.gca().add_artist(centre_circle)\n",
    "\n",
    "plt.title('Churn Distribution w.r.t Partner: Being Partner(Y), Not a Partner(N)', fontsize=15, y=1.1)\n",
    "\n",
    "# show plot\n",
    "\n",
    "plt.axis('equal')\n",
    "plt.tight_layout()\n",
    "plt.show()"
   ]
  },
  {
   "cell_type": "code",
   "execution_count": null,
   "id": "pnBn3WAgTbSh",
   "metadata": {
    "colab": {
     "base_uri": "https://localhost:8080/",
     "height": 621
    },
    "executionInfo": {
     "elapsed": 32,
     "status": "ok",
     "timestamp": 1694570766548,
     "user": {
      "displayName": "DHIVYESH R K -IIITK",
      "userId": "17132821962679072664"
     },
     "user_tz": -330
    },
    "id": "pnBn3WAgTbSh",
    "outputId": "8fc7c962-7187-48b5-90e2-ff75ef163570"
   },
   "outputs": [],
   "source": [
    "fig, ax = plt.subplots(figsize=(7, 5))\n",
    "\n",
    "# Group data by Contract and Churn\n",
    "grouped_data = df.groupby(['Contract', 'Churn']).size().unstack()\n",
    "\n",
    "# Plot the histogram\n",
    "grouped_data.plot(kind='bar', stacked=False, ax=ax)\n",
    "ax.set_xlabel('Contract')\n",
    "ax.set_ylabel('Count')\n",
    "ax.set_title('Customer contract distribution')\n",
    "ax.legend(title='Churn')\n"
   ]
  },
  {
   "cell_type": "code",
   "execution_count": null,
   "id": "QbY8sOzQZcd3",
   "metadata": {
    "colab": {
     "base_uri": "https://localhost:8080/"
    },
    "executionInfo": {
     "elapsed": 23,
     "status": "ok",
     "timestamp": 1694570766548,
     "user": {
      "displayName": "DHIVYESH R K -IIITK",
      "userId": "17132821962679072664"
     },
     "user_tz": -330
    },
    "id": "QbY8sOzQZcd3",
    "outputId": "46c6e427-264b-4121-92f3-7728116ece00"
   },
   "outputs": [],
   "source": [
    "df['PhoneService'].unique()"
   ]
  },
  {
   "cell_type": "code",
   "execution_count": null,
   "id": "hIvYPM4YXl8h",
   "metadata": {
    "colab": {
     "base_uri": "https://localhost:8080/",
     "height": 1000
    },
    "executionInfo": {
     "elapsed": 1816,
     "status": "ok",
     "timestamp": 1694570768345,
     "user": {
      "displayName": "DHIVYESH R K -IIITK",
      "userId": "17132821962679072664"
     },
     "user_tz": -330
    },
    "id": "hIvYPM4YXl8h",
    "outputId": "77cca9ab-8417-4144-dcc6-cc3675767f11"
   },
   "outputs": [],
   "source": [
    "import matplotlib.pyplot as plt\n",
    "\n",
    "# List of values to replace 'Contract' in each plot\n",
    "contract_values = ['Contract', 'PaymentMethod', 'OnlineSecurity', 'OnlineBackup', 'TechSupport', 'PhoneService', 'DeviceProtection']  # Replace with your values\n",
    "\n",
    "# Create a subplot for each contract value\n",
    "for contract_value in contract_values:\n",
    "    fig, ax = plt.subplots(figsize=(7, 5))\n",
    "\n",
    "    # Group data by Churn for the current contract value\n",
    "    grouped_data = df.groupby([contract_value, 'Churn']).size().unstack()\n",
    "\n",
    "    # Plot the histogram\n",
    "    grouped_data.plot(kind='bar', stacked=False, ax=ax)\n",
    "    ax.set_xlabel('Churn')\n",
    "    ax.set_ylabel('Count')\n",
    "    ax.set_title(f'Customer contract distribution for {contract_value}')\n",
    "    ax.legend(title='Churn')\n",
    "\n",
    "plt.show()  # Show all the plots\n"
   ]
  },
  {
   "cell_type": "code",
   "execution_count": null,
   "id": "xER_XOcCKM5W",
   "metadata": {
    "colab": {
     "base_uri": "https://localhost:8080/"
    },
    "executionInfo": {
     "elapsed": 34,
     "status": "ok",
     "timestamp": 1694570768346,
     "user": {
      "displayName": "DHIVYESH R K -IIITK",
      "userId": "17132821962679072664"
     },
     "user_tz": -330
    },
    "id": "xER_XOcCKM5W",
    "outputId": "762e3fe0-969e-4c9c-e454-d931023612fc"
   },
   "outputs": [],
   "source": [
    "df.nunique()"
   ]
  },
  {
   "cell_type": "code",
   "execution_count": null,
   "id": "eeb67ea5-909b-4cae-9c9b-7bdb7ec69156",
   "metadata": {
    "executionInfo": {
     "elapsed": 31,
     "status": "ok",
     "timestamp": 1694570768347,
     "user": {
      "displayName": "DHIVYESH R K -IIITK",
      "userId": "17132821962679072664"
     },
     "user_tz": -330
    },
    "id": "eeb67ea5-909b-4cae-9c9b-7bdb7ec69156"
   },
   "outputs": [],
   "source": [
    "# Convert Categorical to Numeric"
   ]
  },
  {
   "cell_type": "code",
   "execution_count": null,
   "id": "5009c43a-7cb2-4265-a82a-e7b38aecfd39",
   "metadata": {
    "executionInfo": {
     "elapsed": 31,
     "status": "ok",
     "timestamp": 1694570768348,
     "user": {
      "displayName": "DHIVYESH R K -IIITK",
      "userId": "17132821962679072664"
     },
     "user_tz": -330
    },
    "id": "5009c43a-7cb2-4265-a82a-e7b38aecfd39"
   },
   "outputs": [],
   "source": [
    "le = LabelEncoder()"
   ]
  },
  {
   "cell_type": "code",
   "execution_count": null,
   "id": "f6a8cf16-b9cb-4a6b-83f8-9abca7218906",
   "metadata": {
    "colab": {
     "base_uri": "https://localhost:8080/"
    },
    "executionInfo": {
     "elapsed": 32,
     "status": "ok",
     "timestamp": 1694570768349,
     "user": {
      "displayName": "DHIVYESH R K -IIITK",
      "userId": "17132821962679072664"
     },
     "user_tz": -330
    },
    "id": "f6a8cf16-b9cb-4a6b-83f8-9abca7218906",
    "outputId": "e8b3f7be-aa89-4364-9dc0-6281958ea371"
   },
   "outputs": [],
   "source": [
    "df['gender'].unique()"
   ]
  },
  {
   "cell_type": "code",
   "execution_count": null,
   "id": "9d9c2b49-ca1b-4864-a152-40bda51c6a82",
   "metadata": {
    "colab": {
     "base_uri": "https://localhost:8080/"
    },
    "executionInfo": {
     "elapsed": 29,
     "status": "ok",
     "timestamp": 1694570768350,
     "user": {
      "displayName": "DHIVYESH R K -IIITK",
      "userId": "17132821962679072664"
     },
     "user_tz": -330
    },
    "id": "9d9c2b49-ca1b-4864-a152-40bda51c6a82",
    "outputId": "240666e7-7615-449a-9c84-4214d55ef844"
   },
   "outputs": [],
   "source": [
    "df['Partner'].unique()"
   ]
  },
  {
   "cell_type": "code",
   "execution_count": null,
   "id": "b1bdf6eb-777d-4009-a55e-651822acee62",
   "metadata": {
    "colab": {
     "base_uri": "https://localhost:8080/"
    },
    "executionInfo": {
     "elapsed": 27,
     "status": "ok",
     "timestamp": 1694570768351,
     "user": {
      "displayName": "DHIVYESH R K -IIITK",
      "userId": "17132821962679072664"
     },
     "user_tz": -330
    },
    "id": "b1bdf6eb-777d-4009-a55e-651822acee62",
    "outputId": "705caac8-9c7d-407f-da48-786cfbb1e7e6"
   },
   "outputs": [],
   "source": [
    "df['Dependents'].unique()"
   ]
  },
  {
   "cell_type": "code",
   "execution_count": null,
   "id": "e18818f8-b0be-4ea4-bc0e-479989d6c519",
   "metadata": {
    "colab": {
     "base_uri": "https://localhost:8080/"
    },
    "executionInfo": {
     "elapsed": 24,
     "status": "ok",
     "timestamp": 1694570768352,
     "user": {
      "displayName": "DHIVYESH R K -IIITK",
      "userId": "17132821962679072664"
     },
     "user_tz": -330
    },
    "id": "e18818f8-b0be-4ea4-bc0e-479989d6c519",
    "outputId": "718cd59a-f10d-403c-ba38-11949558ac34"
   },
   "outputs": [],
   "source": [
    "df['PhoneService'].unique()"
   ]
  },
  {
   "cell_type": "code",
   "execution_count": null,
   "id": "06cce5eb-e243-4578-894d-3355952cbfa4",
   "metadata": {
    "executionInfo": {
     "elapsed": 21,
     "status": "ok",
     "timestamp": 1694570768354,
     "user": {
      "displayName": "DHIVYESH R K -IIITK",
      "userId": "17132821962679072664"
     },
     "user_tz": -330
    },
    "id": "06cce5eb-e243-4578-894d-3355952cbfa4"
   },
   "outputs": [],
   "source": [
    "cols_to_encode = [col for col in df.columns if df[col].nunique()>1 and df[col].nunique()<5]"
   ]
  },
  {
   "cell_type": "code",
   "execution_count": null,
   "id": "jZ_KADKxPxCG",
   "metadata": {
    "colab": {
     "base_uri": "https://localhost:8080/"
    },
    "executionInfo": {
     "elapsed": 3,
     "status": "ok",
     "timestamp": 1694570783416,
     "user": {
      "displayName": "DHIVYESH R K -IIITK",
      "userId": "17132821962679072664"
     },
     "user_tz": -330
    },
    "id": "jZ_KADKxPxCG",
    "outputId": "c07f644f-3797-49f3-c5a3-642427e2154a"
   },
   "outputs": [],
   "source": [
    "cols_to_encode"
   ]
  },
  {
   "cell_type": "code",
   "execution_count": null,
   "id": "Vlrf_c1yPx-v",
   "metadata": {
    "colab": {
     "base_uri": "https://localhost:8080/"
    },
    "executionInfo": {
     "elapsed": 4,
     "status": "ok",
     "timestamp": 1694570786017,
     "user": {
      "displayName": "DHIVYESH R K -IIITK",
      "userId": "17132821962679072664"
     },
     "user_tz": -330
    },
    "id": "Vlrf_c1yPx-v",
    "outputId": "942e0946-a823-4c3b-f828-b20757d946b1"
   },
   "outputs": [],
   "source": [
    "df['SeniorCitizen'].unique()"
   ]
  },
  {
   "cell_type": "code",
   "execution_count": null,
   "id": "AzQmGFDQQEoi",
   "metadata": {
    "executionInfo": {
     "elapsed": 3,
     "status": "ok",
     "timestamp": 1694570786487,
     "user": {
      "displayName": "DHIVYESH R K -IIITK",
      "userId": "17132821962679072664"
     },
     "user_tz": -330
    },
    "id": "AzQmGFDQQEoi"
   },
   "outputs": [],
   "source": [
    "cols_to_encode.remove('SeniorCitizen')"
   ]
  },
  {
   "cell_type": "code",
   "execution_count": null,
   "id": "0JbUXWu6QX-M",
   "metadata": {
    "executionInfo": {
     "elapsed": 3,
     "status": "ok",
     "timestamp": 1694570786487,
     "user": {
      "displayName": "DHIVYESH R K -IIITK",
      "userId": "17132821962679072664"
     },
     "user_tz": -330
    },
    "id": "0JbUXWu6QX-M"
   },
   "outputs": [],
   "source": [
    "for col in cols_to_encode:\n",
    "  df[col] = le.fit_transform(df[col])"
   ]
  },
  {
   "cell_type": "code",
   "execution_count": null,
   "id": "ITDUYfESQnpr",
   "metadata": {
    "colab": {
     "base_uri": "https://localhost:8080/",
     "height": 226
    },
    "executionInfo": {
     "elapsed": 8,
     "status": "ok",
     "timestamp": 1694570786956,
     "user": {
      "displayName": "DHIVYESH R K -IIITK",
      "userId": "17132821962679072664"
     },
     "user_tz": -330
    },
    "id": "ITDUYfESQnpr",
    "outputId": "00f6bc8e-86d2-4066-891b-0388fc38aad6"
   },
   "outputs": [],
   "source": [
    "df.head()"
   ]
  },
  {
   "cell_type": "code",
   "execution_count": null,
   "id": "hOVRr6ahQrV1",
   "metadata": {
    "executionInfo": {
     "elapsed": 3,
     "status": "ok",
     "timestamp": 1694570854432,
     "user": {
      "displayName": "DHIVYESH R K -IIITK",
      "userId": "17132821962679072664"
     },
     "user_tz": -330
    },
    "id": "hOVRr6ahQrV1"
   },
   "outputs": [],
   "source": [
    "X = df.drop(columns = ['Churn'])\n",
    "y = df['Churn'].values"
   ]
  },
  {
   "cell_type": "code",
   "execution_count": null,
   "id": "wu9okCyWcofh",
   "metadata": {
    "executionInfo": {
     "elapsed": 2,
     "status": "ok",
     "timestamp": 1694570856193,
     "user": {
      "displayName": "DHIVYESH R K -IIITK",
      "userId": "17132821962679072664"
     },
     "user_tz": -330
    },
    "id": "wu9okCyWcofh"
   },
   "outputs": [],
   "source": [
    "X_train, X_test, y_train, y_test = train_test_split(X,y,test_size = 0.3 0, random_state = 42)\n",
    "# X_val, X_test, y_val, y_test = train_test_split(X_temp, y_temp, test_size = 0.15, random_state = 42)"
   ]
  },
  {
   "cell_type": "code",
   "execution_count": null,
   "id": "qFi8h4KJdi_Y",
   "metadata": {
    "colab": {
     "base_uri": "https://localhost:8080/",
     "height": 1000
    },
    "executionInfo": {
     "elapsed": 5409,
     "status": "ok",
     "timestamp": 1694570863297,
     "user": {
      "displayName": "DHIVYESH R K -IIITK",
      "userId": "17132821962679072664"
     },
     "user_tz": -330
    },
    "id": "qFi8h4KJdi_Y",
    "outputId": "ba7665a4-6a36-4b24-bcd1-e89c0577e672"
   },
   "outputs": [],
   "source": [
    "def distplot(feature, frame, color='r'):\n",
    "    plt.figure(figsize=(8,3))\n",
    "    plt.title(\"Distribution for {}\".format(feature))\n",
    "    ax = sns.distplot(frame[feature], color= color)\n",
    "\n",
    "num_cols = [\"tenure\", 'MonthlyCharges', 'TotalCharges']\n",
    "for feat in num_cols: distplot(feat, df)"
   ]
  },
  {
   "cell_type": "code",
   "execution_count": null,
   "id": "2vcF_05ITufx",
   "metadata": {
    "executionInfo": {
     "elapsed": 538,
     "status": "ok",
     "timestamp": 1694571129615,
     "user": {
      "displayName": "DHIVYESH R K -IIITK",
      "userId": "17132821962679072664"
     },
     "user_tz": -330
    },
    "id": "2vcF_05ITufx"
   },
   "outputs": [],
   "source": []
  },
  {
   "cell_type": "code",
   "execution_count": null,
   "id": "5JZbLotIdsPf",
   "metadata": {
    "executionInfo": {
     "elapsed": 2,
     "status": "ok",
     "timestamp": 1694571131413,
     "user": {
      "displayName": "DHIVYESH R K -IIITK",
      "userId": "17132821962679072664"
     },
     "user_tz": -330
    },
    "id": "5JZbLotIdsPf"
   },
   "outputs": [],
   "source": [
    "scaler= StandardScaler()\n",
    "\n",
    "X_train[num_cols] = scaler.fit_transform(X_train[num_cols])\n",
    "X_test[num_cols] = scaler.transform(X_test[num_cols])\n"
   ]
  },
  {
   "cell_type": "code",
   "execution_count": null,
   "id": "HZlO74RHhABy",
   "metadata": {
    "colab": {
     "base_uri": "https://localhost:8080/",
     "height": 1000
    },
    "executionInfo": {
     "elapsed": 2521,
     "status": "ok",
     "timestamp": 1694571135121,
     "user": {
      "displayName": "DHIVYESH R K -IIITK",
      "userId": "17132821962679072664"
     },
     "user_tz": -330
    },
    "id": "HZlO74RHhABy",
    "outputId": "a7180de8-4a63-411d-e015-4db53b8d4768"
   },
   "outputs": [],
   "source": [
    "num_cols = [\"tenure\", 'MonthlyCharges', 'TotalCharges']\n",
    "for feat in num_cols: distplot(feat, df)"
   ]
  },
  {
   "cell_type": "code",
   "execution_count": null,
   "id": "RCyud1BThXc3",
   "metadata": {
    "executionInfo": {
     "elapsed": 12,
     "status": "ok",
     "timestamp": 1694571135122,
     "user": {
      "displayName": "DHIVYESH R K -IIITK",
      "userId": "17132821962679072664"
     },
     "user_tz": -330
    },
    "id": "RCyud1BThXc3"
   },
   "outputs": [],
   "source": [
    "from sklearn.ensemble import RandomForestClassifier, AdaBoostClassifier, GradientBoostingClassifier\n",
    "from sklearn import metrics\n",
    "from sklearn.metrics import classification_report\n",
    "from sklearn.metrics import confusion_matrix\n",
    "from sklearn.metrics import roc_curve"
   ]
  },
  {
   "cell_type": "code",
   "execution_count": null,
   "id": "QhI80xvlhIV6",
   "metadata": {
    "colab": {
     "base_uri": "https://localhost:8080/"
    },
    "executionInfo": {
     "elapsed": 12,
     "status": "ok",
     "timestamp": 1694571135123,
     "user": {
      "displayName": "DHIVYESH R K -IIITK",
      "userId": "17132821962679072664"
     },
     "user_tz": -330
    },
    "id": "QhI80xvlhIV6",
    "outputId": "c655f31c-1593-44bc-eb8a-11caccc4617c"
   },
   "outputs": [],
   "source": [
    "model_rf = RandomForestClassifier(n_estimators=100 , oob_score = True, n_jobs = -1,\n",
    "                                  random_state =40, max_features = \"sqrt\",\n",
    "                                  max_leaf_nodes = 60)\n",
    "model_rf.fit(X_train, y_train)\n",
    "\n",
    "# Make predictions\n",
    "prediction_test = model_rf.predict(X_test)\n",
    "print (metrics.accuracy_score(y_test, prediction_test))"
   ]
  },
  {
   "cell_type": "code",
   "execution_count": null,
   "id": "EeOrU80XhwUr",
   "metadata": {
    "colab": {
     "base_uri": "https://localhost:8080/"
    },
    "executionInfo": {
     "elapsed": 11,
     "status": "ok",
     "timestamp": 1694571135123,
     "user": {
      "displayName": "DHIVYESH R K -IIITK",
      "userId": "17132821962679072664"
     },
     "user_tz": -330
    },
    "id": "EeOrU80XhwUr",
    "outputId": "1d07ab9d-990c-4ecf-c2ce-e8e3c1a4ffcf"
   },
   "outputs": [],
   "source": [
    "print(classification_report(y_test, prediction_test))"
   ]
  },
  {
   "cell_type": "code",
   "execution_count": null,
   "id": "tBSXvnoBiLhZ",
   "metadata": {
    "colab": {
     "base_uri": "https://localhost:8080/",
     "height": 319
    },
    "executionInfo": {
     "elapsed": 841,
     "status": "ok",
     "timestamp": 1694571135957,
     "user": {
      "displayName": "DHIVYESH R K -IIITK",
      "userId": "17132821962679072664"
     },
     "user_tz": -330
    },
    "id": "tBSXvnoBiLhZ",
    "outputId": "fa3bccd8-6017-42e9-f1e6-5c2e1c32eebc"
   },
   "outputs": [],
   "source": [
    "plt.figure(figsize=(4,3))\n",
    "sns.heatmap(confusion_matrix(y_test, prediction_test),\n",
    "                annot=True,fmt = \"d\",linecolor=\"k\",linewidths=3)\n",
    "\n",
    "plt.title(\" RANDOM FOREST CONFUSION MATRIX\",fontsize=14)\n",
    "plt.show()"
   ]
  },
  {
   "cell_type": "code",
   "execution_count": null,
   "id": "n4D62SBCoIlC",
   "metadata": {
    "colab": {
     "base_uri": "https://localhost:8080/",
     "height": 482
    },
    "executionInfo": {
     "elapsed": 727,
     "status": "ok",
     "timestamp": 1694571137354,
     "user": {
      "displayName": "DHIVYESH R K -IIITK",
      "userId": "17132821962679072664"
     },
     "user_tz": -330
    },
    "id": "n4D62SBCoIlC",
    "outputId": "1164c755-438a-4827-93fe-7ab3afdb88df"
   },
   "outputs": [],
   "source": [
    "y_rfpred_prob = model_rf.predict_proba(X_test)[:,1]\n",
    "fpr_rf, tpr_rf, thresholds = roc_curve(y_test, y_rfpred_prob)\n",
    "plt.plot([0, 1], [0, 1], 'k--' )\n",
    "plt.plot(fpr_rf, tpr_rf, label='Random Forest',color = \"r\")\n",
    "plt.xlabel('False Positive Rate')\n",
    "plt.ylabel('True Positive Rate')\n",
    "plt.title('Random Forest ROC Curve',fontsize=16)\n",
    "plt.show();"
   ]
  },
  {
   "cell_type": "code",
   "execution_count": null,
   "id": "b1Z1L5GfnmhS",
   "metadata": {
    "colab": {
     "base_uri": "https://localhost:8080/"
    },
    "executionInfo": {
     "elapsed": 952,
     "status": "ok",
     "timestamp": 1694570969757,
     "user": {
      "displayName": "DHIVYESH R K -IIITK",
      "userId": "17132821962679072664"
     },
     "user_tz": -330
    },
    "id": "b1Z1L5GfnmhS",
    "outputId": "59042b09-e5cf-4f3c-ab7d-438cc5aeaa22"
   },
   "outputs": [],
   "source": [
    "a_model = AdaBoostClassifier()\n",
    "a_model.fit(X_train,y_train)\n",
    "a_preds = a_model.predict(X_test)\n",
    "print(\"AdaBoost Classifier accuracy\")\n",
    "metrics.accuracy_score(y_test, a_preds)\n"
   ]
  },
  {
   "cell_type": "code",
   "execution_count": null,
   "id": "3vuorWOUoew2",
   "metadata": {
    "colab": {
     "base_uri": "https://localhost:8080/"
    },
    "executionInfo": {
     "elapsed": 17,
     "status": "ok",
     "timestamp": 1694570969758,
     "user": {
      "displayName": "DHIVYESH R K -IIITK",
      "userId": "17132821962679072664"
     },
     "user_tz": -330
    },
    "id": "3vuorWOUoew2",
    "outputId": "e3537cbd-eb93-43e1-a2ea-ea655ca332d1"
   },
   "outputs": [],
   "source": [
    "print(classification_report(y_test, a_preds))\n"
   ]
  },
  {
   "cell_type": "code",
   "execution_count": null,
   "id": "MuTU33gionzF",
   "metadata": {
    "colab": {
     "base_uri": "https://localhost:8080/",
     "height": 319
    },
    "executionInfo": {
     "elapsed": 10,
     "status": "ok",
     "timestamp": 1694570969759,
     "user": {
      "displayName": "DHIVYESH R K -IIITK",
      "userId": "17132821962679072664"
     },
     "user_tz": -330
    },
    "id": "MuTU33gionzF",
    "outputId": "17a000bc-b9cb-4076-9ccb-d5bc8b1695e3"
   },
   "outputs": [],
   "source": [
    "plt.figure(figsize=(4,3))\n",
    "sns.heatmap(confusion_matrix(y_test, a_preds),\n",
    "                annot=True,fmt = \"d\",linecolor=\"k\",linewidths=3)\n",
    "\n",
    "plt.title(\"AdaBoost Confusion Matrix\",fontsize=14)\n",
    "plt.show()"
   ]
  },
  {
   "cell_type": "code",
   "execution_count": null,
   "id": "0Gi7DLO3pCLj",
   "metadata": {
    "colab": {
     "base_uri": "https://localhost:8080/",
     "height": 482
    },
    "executionInfo": {
     "elapsed": 910,
     "status": "ok",
     "timestamp": 1694570970661,
     "user": {
      "displayName": "DHIVYESH R K -IIITK",
      "userId": "17132821962679072664"
     },
     "user_tz": -330
    },
    "id": "0Gi7DLO3pCLj",
    "outputId": "0320852b-1369-4b84-9cae-f0f5c9322591"
   },
   "outputs": [],
   "source": [
    "y_rfpred_prob = a_model.predict_proba(X_test)[:,1]\n",
    "fpr_rf, tpr_rf, thresholds = roc_curve(y_test, y_rfpred_prob)\n",
    "plt.plot([0, 1], [0, 1], 'k--' )\n",
    "plt.plot(fpr_rf, tpr_rf, label='Random Forest',color = \"r\")\n",
    "plt.xlabel('False Positive Rate')\n",
    "plt.ylabel('True Positive Rate')\n",
    "plt.title('Random Forest ROC Curve',fontsize=16)\n",
    "plt.show();"
   ]
  },
  {
   "cell_type": "code",
   "execution_count": null,
   "id": "NGwHO1Q0oq7i",
   "metadata": {
    "colab": {
     "base_uri": "https://localhost:8080/"
    },
    "executionInfo": {
     "elapsed": 1221,
     "status": "ok",
     "timestamp": 1694570972505,
     "user": {
      "displayName": "DHIVYESH R K -IIITK",
      "userId": "17132821962679072664"
     },
     "user_tz": -330
    },
    "id": "NGwHO1Q0oq7i",
    "outputId": "b82463d6-5364-48a1-e10b-9e7b1b4b9cf7"
   },
   "outputs": [],
   "source": [
    "gb = GradientBoostingClassifier()\n",
    "gb.fit(X_train, y_train)\n",
    "gb_pred = gb.predict(X_test)\n",
    "print(\"Gradient Boosting Classifier\", metrics.accuracy_score(y_test, gb_pred))"
   ]
  },
  {
   "cell_type": "code",
   "execution_count": null,
   "id": "WWdWZQpXotVl",
   "metadata": {
    "colab": {
     "base_uri": "https://localhost:8080/"
    },
    "executionInfo": {
     "elapsed": 10,
     "status": "ok",
     "timestamp": 1694570972506,
     "user": {
      "displayName": "DHIVYESH R K -IIITK",
      "userId": "17132821962679072664"
     },
     "user_tz": -330
    },
    "id": "WWdWZQpXotVl",
    "outputId": "e1fea358-7481-4db9-ec4b-a0950e3f5406"
   },
   "outputs": [],
   "source": [
    "print(classification_report(y_test, gb_pred))"
   ]
  },
  {
   "cell_type": "code",
   "execution_count": null,
   "id": "bHmRYMCBo7ov",
   "metadata": {
    "colab": {
     "base_uri": "https://localhost:8080/",
     "height": 482
    },
    "executionInfo": {
     "elapsed": 1773,
     "status": "ok",
     "timestamp": 1694570974273,
     "user": {
      "displayName": "DHIVYESH R K -IIITK",
      "userId": "17132821962679072664"
     },
     "user_tz": -330
    },
    "id": "bHmRYMCBo7ov",
    "outputId": "ca153610-aeaf-4e9a-dc58-fa9248a62060"
   },
   "outputs": [],
   "source": [
    "y_rfpred_prob = gb.predict_proba(X_test)[:,1]\n",
    "fpr_rf, tpr_rf, thresholds = roc_curve(y_test, y_rfpred_prob)\n",
    "plt.plot([0, 1], [0, 1], 'k--' )\n",
    "plt.plot(fpr_rf, tpr_rf, label='Random Forest',color = \"r\")\n",
    "plt.xlabel('False Positive Rate')\n",
    "plt.ylabel('True Positive Rate')\n",
    "plt.title('Random Forest ROC Curve',fontsize=16)\n",
    "plt.show();"
   ]
  },
  {
   "cell_type": "code",
   "execution_count": null,
   "id": "rBoBb-dFTP6r",
   "metadata": {
    "id": "rBoBb-dFTP6r"
   },
   "outputs": [],
   "source": []
  }
 ],
 "metadata": {
  "colab": {
   "provenance": []
  },
  "kernelspec": {
   "display_name": "Python 3 (ipykernel)",
   "language": "python",
   "name": "python3"
  },
  "language_info": {
   "codemirror_mode": {
    "name": "ipython",
    "version": 3
   },
   "file_extension": ".py",
   "mimetype": "text/x-python",
   "name": "python",
   "nbconvert_exporter": "python",
   "pygments_lexer": "ipython3",
   "version": "3.11.1"
  }
 },
 "nbformat": 4,
 "nbformat_minor": 5
}
